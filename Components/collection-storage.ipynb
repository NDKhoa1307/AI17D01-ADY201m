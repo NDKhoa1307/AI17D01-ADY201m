{
 "cells": [
  {
   "cell_type": "code",
   "execution_count": 1,
   "metadata": {},
   "outputs": [],
   "source": [
    "import requests\n",
    "import json \n",
    "import pandas as pd\n",
    "import pymongo\n",
    "import os"
   ]
  },
  {
   "cell_type": "code",
   "execution_count": 2,
   "metadata": {},
   "outputs": [],
   "source": [
    "# Calling api and converting the data into readable form\n",
    "\n",
    "url = f'https://archive-api.open-meteo.com/v1/archive?latitude=16.0678&longitude=108.2208&start_date=1993-09-30&end_date=2023-09-30&daily=weathercode,temperature_2m_mean,precipitation_sum,precipitation_hours,windspeed_10m_max,windgusts_10m_max,et0_fao_evapotranspiration&timezone=auto'\n",
    "response = requests.get(url)\n",
    "data = json.loads(response.text)"
   ]
  },
  {
   "cell_type": "code",
   "execution_count": null,
   "metadata": {},
   "outputs": [],
   "source": [
    "# Use json_normalize to turn data into pandas dataframe\n",
    "\n",
    "df = pd.json_normalize(data)\n",
    "\n",
    "# Use pandas methods to transform the dataframe\n",
    "\n",
    "df = df.apply(pd.Series.explode)\n",
    "df = df.reset_index(drop = True)\n",
    "df.head()"
   ]
  },
  {
   "cell_type": "code",
   "execution_count": null,
   "metadata": {},
   "outputs": [],
   "source": [
    "# Modify columns name\n",
    "\n",
    "df.columns = df.columns.str.replace('daily.', 'data-')\n",
    "df.columns = df.columns.str.replace('daily_units.', 'unit-')\n",
    "df.head()"
   ]
  },
  {
   "cell_type": "code",
   "execution_count": null,
   "metadata": {},
   "outputs": [],
   "source": [
    "df.columns"
   ]
  },
  {
   "cell_type": "code",
   "execution_count": 6,
   "metadata": {},
   "outputs": [],
   "source": [
    "# If want to save to MongoDB database then change this value into True\n",
    "\n",
    "installedMongo = False\n",
    "if installedMongo:\n",
    "    # Connect to localhost database\n",
    "    client = pymongo.MongoClient(\"mongodb://localhost:27017\")\n",
    "    db = client['weather']\n",
    "    collection = db['weather-daily']\n",
    "    \n",
    "    # Convert dataframe\n",
    "    insertData = df.to_dict(orient=\"records\")   \n",
    "    \n",
    "    # Insert into MongoDB collection\n",
    "    inserted_ids = collection.insert_many(insertData).inserted_ids\n",
    "\n",
    "    client.close()\n",
    "else:\n",
    "    if not os.path.isdir('../data'):\n",
    "        os.makedirs('../data')\n",
    "\n",
    "    df.to_csv('../data/dailyWeather.csv', index=False)"
   ]
  },
  {
   "cell_type": "code",
   "execution_count": null,
   "metadata": {},
   "outputs": [],
   "source": []
  }
 ],
 "metadata": {
  "kernelspec": {
   "display_name": "env",
   "language": "python",
   "name": "python3"
  },
  "language_info": {
   "codemirror_mode": {
    "name": "ipython",
    "version": 3
   },
   "file_extension": ".py",
   "mimetype": "text/x-python",
   "name": "python",
   "nbconvert_exporter": "python",
   "pygments_lexer": "ipython3",
   "version": "3.11.3"
  }
 },
 "nbformat": 4,
 "nbformat_minor": 2
}
