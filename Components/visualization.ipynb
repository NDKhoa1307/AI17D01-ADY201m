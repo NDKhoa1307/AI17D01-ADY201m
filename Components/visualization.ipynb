{
 "cells": [
  {
   "cell_type": "code",
   "execution_count": 1,
   "metadata": {},
   "outputs": [],
   "source": [
    "import pandas as pd\n",
    "import pymongo\n",
    "import seaborn as sns\n",
    "import matplotlib.pyplot as plt\n",
    "%matplotlib inline"
   ]
  },
  {
   "cell_type": "code",
   "execution_count": 8,
   "metadata": {},
   "outputs": [],
   "source": [
    "#Change this option into True if you have installed mongoDB and have ran collection-storage.ipynb\n",
    "useMongo = False\n",
    "if useMongo:\n",
    "    # Connect with MongoDB server\n",
    "    client = pymongo.MongoClient('mongodb://localhost:27017')\n",
    "    db = client['weather']\n",
    "    collection = db['weather-daily']\n",
    "\n",
    "    # Retrieve and convert the data\n",
    "    data = list(collection.find())\n",
    "    df = pd.DataFrame(data)\n",
    "    df.head()\n",
    "\n",
    "else:\n",
    "    df = pd.read_csv('../data/dailyWeather.csv')"
   ]
  },
  {
   "cell_type": "code",
   "execution_count": null,
   "metadata": {},
   "outputs": [],
   "source": [
    "df.head()"
   ]
  },
  {
   "cell_type": "code",
   "execution_count": 11,
   "metadata": {},
   "outputs": [],
   "source": [
    "# Modify the dataframe\n",
    "if useMongo:\n",
    "    df.drop('_id', axis = 1, inplace = True)\n",
    "    df.head()"
   ]
  },
  {
   "cell_type": "code",
   "execution_count": null,
   "metadata": {},
   "outputs": [],
   "source": [
    "dailyData = df[[col for col in df.columns if col.startswith('data-')]]\n",
    "dailyData.head()"
   ]
  },
  {
   "cell_type": "code",
   "execution_count": null,
   "metadata": {},
   "outputs": [],
   "source": []
  }
 ],
 "metadata": {
  "kernelspec": {
   "display_name": "env",
   "language": "python",
   "name": "python3"
  },
  "language_info": {
   "codemirror_mode": {
    "name": "ipython",
    "version": 3
   },
   "file_extension": ".py",
   "mimetype": "text/x-python",
   "name": "python",
   "nbconvert_exporter": "python",
   "pygments_lexer": "ipython3",
   "version": "3.11.3"
  }
 },
 "nbformat": 4,
 "nbformat_minor": 2
}
